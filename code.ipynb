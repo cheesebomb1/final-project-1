{
 "cells": [
  {
   "cell_type": "markdown",
   "metadata": {},
   "source": [
    "# Best Neighborhood in Pittsburgh\n",
    "## Team 5"
   ]
  },
  {
   "cell_type": "markdown",
   "metadata": {},
   "source": [
    "### Introduction\n",
    "All datasets are from WPRDC and we use two factors to decide the best neighborhood in Pittsburgh.\n",
    "\n",
    "Factors:\n",
    "* Crime rate\n",
    "* Median Age at Death\n",
    "\n",
    "We use three datasets:\n",
    "* Police Incident Blotter \n",
    "* Total Population\n",
    "* Median Age at Death\n",
    "\n",
    "A neighborhood has a higher crime rate indicate the area is not safe enough. No one wants to live a place has a lot of crime happens. \n",
    "\n",
    "People who live in a neighborhood with has higher median death age indicate that the neighborhood might have a good environment, public facilities, and good medical service. Because everyone wants to live longer. "
   ]
  },
  {
   "cell_type": "markdown",
   "metadata": {},
   "source": [
    "### The Metric\n",
    "\n",
    "#### Crime Rate\n",
    "we figure out the crime rate as total crimes divided by the total population. \n",
    "\n",
    "#### Median Age at Death\n"
   ]
  },
  {
   "cell_type": "markdown",
   "metadata": {},
   "source": [
    "### Conclusion\n",
    "\n",
    "#### The best neighborhood in Pittsburgh is"
   ]
  },
  {
   "cell_type": "code",
   "execution_count": 5,
   "metadata": {},
   "outputs": [],
   "source": [
    "import pandas as pd\n",
    "import numpy as np\n",
    "import ssl\n",
    "import geopandas as gpd\n",
    "ssl._create_default_https_context = ssl._create_unverified_context\n",
    "%matplotlib inline"
   ]
  },
  {
   "cell_type": "code",
   "execution_count": 3,
   "metadata": {},
   "outputs": [],
   "source": [
    "population = pd.read_csv(\"https://data.wprdc.org/dataset/5b18c198-474c-4723-b735-cc5220ad43cc/resource/82f29015-6905-4b1c-8300-afe9bb2231b3/download/total-population.csv\")\n",
    "\n"
   ]
  },
  {
   "cell_type": "code",
   "execution_count": 4,
   "metadata": {},
   "outputs": [],
   "source": [
    "\n",
    "    \n",
    "deaths = pd.read_csv(\"https://data.wprdc.org/dataset/ee735209-4de7-4ea4-b446-bf0f0f6d9cb3/resource/c2e1500a-a12a-4e91-be94-76c6a892b7e2/download/nhoodmedianage20112015.csv\",\n",
    "                           parse_dates=True)\n",
    "d = deaths[[\"NEIGHBORHOOD\", \"TOTALdeaths*\"]]\n",
    "total_deaths = d.drop([90, 91], axis = 0)\n",
    "m = deaths[[\"NEIGHBORHOOD\", \"TOTAL MD AGE AT DEATH\"]]\n",
    "med_deaths = m.drop([90, 91], axis = 0)\n",
    "\n",
    "sorted_total_deaths = total_deaths.sort_values('NEIGHBORHOOD')\n",
    "sorted_med_deaths = med_deaths.sort_values('NEIGHBORHOOD')\n"
   ]
  },
  {
   "cell_type": "code",
   "execution_count": null,
   "metadata": {},
   "outputs": [],
   "source": []
  },
  {
   "cell_type": "code",
   "execution_count": null,
   "metadata": {},
   "outputs": [],
   "source": []
  }
 ],
 "metadata": {
  "kernelspec": {
   "display_name": "Python 3.7",
   "language": "python",
   "name": "python3"
  },
  "language_info": {
   "codemirror_mode": {
    "name": "ipython",
    "version": 3
   },
   "file_extension": ".py",
   "mimetype": "text/x-python",
   "name": "python",
   "nbconvert_exporter": "python",
   "pygments_lexer": "ipython3",
   "version": "3.7.0"
  }
 },
 "nbformat": 4,
 "nbformat_minor": 4
}
